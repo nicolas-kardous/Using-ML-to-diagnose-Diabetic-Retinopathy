{
 "cells": [
  {
   "cell_type": "code",
   "execution_count": 1,
   "metadata": {},
   "outputs": [],
   "source": [
    "#### for import clean data\n",
    "\n",
    "import cv2\n",
    "import os\n",
    "import numpy as np\n",
    "import pandas as pd\n",
    "path = \"C:/Users/Michael/Desktop/Berkeley/FinTech/DR/fintech_DR/images\"\n",
    "cleandata = pd.read_csv(\"C:/Users/Michael/Desktop/Berkeley/FinTech/DR/clean data.csv\")\n",
    "filenames = np.empty(1500)\n",
    "\n",
    "filenames = cleandata[\"filename\"]\n",
    "#eye_condition = cleandata[\"sight_threaten\"]\n",
    "\n",
    "images = np.empty(len(filenames), dtype = object ) \n"
   ]
  },
  {
   "cell_type": "code",
   "execution_count": 2,
   "metadata": {},
   "outputs": [],
   "source": [
    "#### read images and flat it\n",
    "\n",
    "images = np.empty(len(filenames), dtype = object ) \n",
    "#new_images = np.empty(len(filenames), dtype = object )\n",
    "#feature = np.empty(len(filenames), dtype = object ) \n",
    "feature = []\n",
    "\n",
    "for i in range(0, len(filenames)):              \n",
    "    images[i] = cv2.imread(path + \"/\" + filenames[i])\n",
    "    images[i] = cv2.resize(images[i], (512,512))\n",
    "    #feature[i] = images[i].flatten()\n",
    "    feature.extend(images[i])\n",
    "feature_mat = np.matrix(np.reshape(feature, (1500,512*512*3)))\n",
    "#feature_df = pd.DataFrame(feature)\n",
    "feature_df = pd.DataFrame(feature_mat)\n",
    "\n",
    "\n"
   ]
  },
  {
   "cell_type": "code",
   "execution_count": 3,
   "metadata": {},
   "outputs": [
    {
     "data": {
      "text/html": [
       "<div>\n",
       "<style scoped>\n",
       "    .dataframe tbody tr th:only-of-type {\n",
       "        vertical-align: middle;\n",
       "    }\n",
       "\n",
       "    .dataframe tbody tr th {\n",
       "        vertical-align: top;\n",
       "    }\n",
       "\n",
       "    .dataframe thead th {\n",
       "        text-align: right;\n",
       "    }\n",
       "</style>\n",
       "<table border=\"1\" class=\"dataframe\">\n",
       "  <thead>\n",
       "    <tr style=\"text-align: right;\">\n",
       "      <th></th>\n",
       "      <th>filename</th>\n",
       "      <th>sight_threaten</th>\n",
       "      <th>0</th>\n",
       "      <th>1</th>\n",
       "      <th>2</th>\n",
       "      <th>3</th>\n",
       "      <th>4</th>\n",
       "      <th>5</th>\n",
       "      <th>6</th>\n",
       "      <th>7</th>\n",
       "      <th>...</th>\n",
       "      <th>786422</th>\n",
       "      <th>786423</th>\n",
       "      <th>786424</th>\n",
       "      <th>786425</th>\n",
       "      <th>786426</th>\n",
       "      <th>786427</th>\n",
       "      <th>786428</th>\n",
       "      <th>786429</th>\n",
       "      <th>786430</th>\n",
       "      <th>786431</th>\n",
       "    </tr>\n",
       "  </thead>\n",
       "  <tbody>\n",
       "    <tr>\n",
       "      <th>0</th>\n",
       "      <td>36_right.jpeg</td>\n",
       "      <td>0</td>\n",
       "      <td>0</td>\n",
       "      <td>0</td>\n",
       "      <td>0</td>\n",
       "      <td>0</td>\n",
       "      <td>0</td>\n",
       "      <td>0</td>\n",
       "      <td>0</td>\n",
       "      <td>0</td>\n",
       "      <td>...</td>\n",
       "      <td>0</td>\n",
       "      <td>0</td>\n",
       "      <td>0</td>\n",
       "      <td>0</td>\n",
       "      <td>0</td>\n",
       "      <td>0</td>\n",
       "      <td>0</td>\n",
       "      <td>0</td>\n",
       "      <td>0</td>\n",
       "      <td>0</td>\n",
       "    </tr>\n",
       "    <tr>\n",
       "      <th>1</th>\n",
       "      <td>57_left.jpeg</td>\n",
       "      <td>0</td>\n",
       "      <td>0</td>\n",
       "      <td>0</td>\n",
       "      <td>0</td>\n",
       "      <td>0</td>\n",
       "      <td>0</td>\n",
       "      <td>0</td>\n",
       "      <td>0</td>\n",
       "      <td>0</td>\n",
       "      <td>...</td>\n",
       "      <td>0</td>\n",
       "      <td>0</td>\n",
       "      <td>0</td>\n",
       "      <td>0</td>\n",
       "      <td>0</td>\n",
       "      <td>0</td>\n",
       "      <td>0</td>\n",
       "      <td>0</td>\n",
       "      <td>0</td>\n",
       "      <td>0</td>\n",
       "    </tr>\n",
       "    <tr>\n",
       "      <th>2</th>\n",
       "      <td>60_left.jpeg</td>\n",
       "      <td>0</td>\n",
       "      <td>0</td>\n",
       "      <td>0</td>\n",
       "      <td>0</td>\n",
       "      <td>0</td>\n",
       "      <td>0</td>\n",
       "      <td>0</td>\n",
       "      <td>0</td>\n",
       "      <td>0</td>\n",
       "      <td>...</td>\n",
       "      <td>0</td>\n",
       "      <td>0</td>\n",
       "      <td>0</td>\n",
       "      <td>0</td>\n",
       "      <td>0</td>\n",
       "      <td>0</td>\n",
       "      <td>0</td>\n",
       "      <td>0</td>\n",
       "      <td>0</td>\n",
       "      <td>0</td>\n",
       "    </tr>\n",
       "    <tr>\n",
       "      <th>3</th>\n",
       "      <td>78_right.jpeg</td>\n",
       "      <td>1</td>\n",
       "      <td>0</td>\n",
       "      <td>0</td>\n",
       "      <td>0</td>\n",
       "      <td>0</td>\n",
       "      <td>0</td>\n",
       "      <td>0</td>\n",
       "      <td>0</td>\n",
       "      <td>0</td>\n",
       "      <td>...</td>\n",
       "      <td>0</td>\n",
       "      <td>0</td>\n",
       "      <td>0</td>\n",
       "      <td>0</td>\n",
       "      <td>0</td>\n",
       "      <td>0</td>\n",
       "      <td>0</td>\n",
       "      <td>0</td>\n",
       "      <td>0</td>\n",
       "      <td>0</td>\n",
       "    </tr>\n",
       "    <tr>\n",
       "      <th>4</th>\n",
       "      <td>81_right.jpeg</td>\n",
       "      <td>0</td>\n",
       "      <td>0</td>\n",
       "      <td>0</td>\n",
       "      <td>0</td>\n",
       "      <td>0</td>\n",
       "      <td>0</td>\n",
       "      <td>0</td>\n",
       "      <td>0</td>\n",
       "      <td>0</td>\n",
       "      <td>...</td>\n",
       "      <td>0</td>\n",
       "      <td>0</td>\n",
       "      <td>0</td>\n",
       "      <td>0</td>\n",
       "      <td>0</td>\n",
       "      <td>0</td>\n",
       "      <td>0</td>\n",
       "      <td>0</td>\n",
       "      <td>0</td>\n",
       "      <td>0</td>\n",
       "    </tr>\n",
       "  </tbody>\n",
       "</table>\n",
       "<p>5 rows × 786434 columns</p>\n",
       "</div>"
      ],
      "text/plain": [
       "        filename  sight_threaten  0  1  2  3  4  5  6  7  ...  786422  786423  \\\n",
       "0  36_right.jpeg               0  0  0  0  0  0  0  0  0  ...       0       0   \n",
       "1   57_left.jpeg               0  0  0  0  0  0  0  0  0  ...       0       0   \n",
       "2   60_left.jpeg               0  0  0  0  0  0  0  0  0  ...       0       0   \n",
       "3  78_right.jpeg               1  0  0  0  0  0  0  0  0  ...       0       0   \n",
       "4  81_right.jpeg               0  0  0  0  0  0  0  0  0  ...       0       0   \n",
       "\n",
       "   786424  786425  786426  786427  786428  786429  786430  786431  \n",
       "0       0       0       0       0       0       0       0       0  \n",
       "1       0       0       0       0       0       0       0       0  \n",
       "2       0       0       0       0       0       0       0       0  \n",
       "3       0       0       0       0       0       0       0       0  \n",
       "4       0       0       0       0       0       0       0       0  \n",
       "\n",
       "[5 rows x 786434 columns]"
      ]
     },
     "execution_count": 3,
     "metadata": {},
     "output_type": "execute_result"
    }
   ],
   "source": [
    "#### combining label and feature\n",
    "\n",
    "fullset = pd.merge(cleandata, feature_df, left_index=True, right_index=True)\n",
    "del fullset['Unnamed: 0']\n",
    "fullset.head()\n"
   ]
  },
  {
   "cell_type": "code",
   "execution_count": 4,
   "metadata": {},
   "outputs": [],
   "source": [
    "#### training and testing set split\n",
    "\n",
    "from sklearn.model_selection import train_test_split \n",
    "\n",
    "x_train, x_test, y_train, y_test = train_test_split(fullset.iloc[:,2:786434], fullset.iloc[:,1], test_size=0.2)"
   ]
  },
  {
   "cell_type": "code",
   "execution_count": 5,
   "metadata": {},
   "outputs": [
    {
     "name": "stdout",
     "output_type": "stream",
     "text": [
      "pca done 1069.218s\n",
      "0.9894062378225497\n",
      "data set to pca done 86.261s\n"
     ]
    }
   ],
   "source": [
    "#### PCA to do dimension reduction\n",
    "\n",
    "from sklearn.decomposition import PCA\n",
    "import time\n",
    "\n",
    "n = 250\n",
    "t0 = time.time()\n",
    "pca = PCA(n_components=n, whiten=True).fit(x_train)\n",
    "print(\"pca done %0.3fs\" % (time.time() - t0))\n",
    "\n",
    "print(sum(pca.explained_variance_ratio_))\n",
    "\n",
    "t0 = time.time()\n",
    "x_train_pca = pca.transform(x_train)\n",
    "x_test_pca  = pca.transform(x_test)\n",
    "print(\"data set to pca done %0.3fs\" % (time.time() - t0))"
   ]
  },
  {
   "cell_type": "code",
   "execution_count": null,
   "metadata": {
    "scrolled": false
   },
   "outputs": [
    {
     "name": "stderr",
     "output_type": "stream",
     "text": [
      "D:\\Jupytor\\lib\\site-packages\\sklearn\\model_selection\\_split.py:1978: FutureWarning: The default value of cv will change from 3 to 5 in version 0.22. Specify it explicitly to silence this warning.\n",
      "  warnings.warn(CV_WARNING, FutureWarning)\n"
     ]
    }
   ],
   "source": [
    "#### training svm model\n",
    "\n",
    "from sklearn import svm\n",
    "from sklearn.model_selection import GridSearchCV\n",
    "\n",
    "# classifier\n",
    "t0 = time.time()\n",
    "params = {\n",
    "    \"C\": [500, 1000, 1500],\n",
    "    \"gamma\": [0.01]\n",
    "}\n",
    "\n",
    "#{1: 10000}\n",
    "\n",
    "clf = GridSearchCV(svm.SVC(kernel='linear', class_weight = 'balanced'), param_grid = params)\n",
    "clf.fit(x_train_pca, y_train)\n",
    "print(\"fit done %0.3fs\" % (time.time() - t0))\n",
    "print(clf.best_estimator_)\n"
   ]
  },
  {
   "cell_type": "code",
   "execution_count": 12,
   "metadata": {},
   "outputs": [
    {
     "name": "stdout",
     "output_type": "stream",
     "text": [
      "              precision    recall  f1-score   support\n",
      "\n",
      "     Healthy       0.83      0.73      0.78       241\n",
      "          DR       0.26      0.39      0.31        59\n",
      "\n",
      "    accuracy                           0.66       300\n",
      "   macro avg       0.55      0.56      0.54       300\n",
      "weighted avg       0.72      0.66      0.69       300\n",
      "\n",
      "[[176  65]\n",
      " [ 36  23]]\n"
     ]
    }
   ],
   "source": [
    "#### predict through svm model\n",
    "\n",
    "from sklearn.metrics import classification_report\n",
    "from sklearn.metrics import confusion_matrix\n",
    "\n",
    "\n",
    "t0 = time.time()\n",
    "pred_svm = clf.predict(x_test_pca)\n",
    "names = [\"Healthy\", \"DR\"]\n",
    "print(classification_report(y_test, pred_svm, target_names = names))\n",
    "print(confusion_matrix(y_test, pred_svm, labels=[0,1]))"
   ]
  },
  {
   "cell_type": "code",
   "execution_count": 69,
   "metadata": {},
   "outputs": [
    {
     "data": {
      "text/plain": [
       "array([0.1 , 0.15, 0.2 , 0.25, 0.3 , 0.35, 0.4 , 0.45, 0.5 , 0.55, 0.6 ,\n",
       "       0.65, 0.7 , 0.75, 0.8 , 0.85, 0.9 , 0.95])"
      ]
     },
     "execution_count": 69,
     "metadata": {},
     "output_type": "execute_result"
    }
   ],
   "source": [
    "np.array(range(10,100,5))/100"
   ]
  },
  {
   "cell_type": "code",
   "execution_count": null,
   "metadata": {},
   "outputs": [],
   "source": [
    "#### \n",
    "\n",
    "from sklearn.decomposition import PCA\n",
    "from sklearn.svm import SVC\n",
    "from sklearn.neighbors import KNeighborsClassifier\n",
    "\n",
    "def svm(trainDataSimplified, trainLabel, testDataSimplified):\n",
    "    clf3 = SVC(C=3.0)  # C为分类数目\n",
    "    clf3.fit(trainDataSimplified, trainLabel)\n",
    "    return clf3.predict(testDataSimplified)\n",
    "\n",
    "\n"
   ]
  },
  {
   "cell_type": "code",
   "execution_count": null,
   "metadata": {},
   "outputs": [],
   "source": [
    "#### Testing \n",
    "import cv2\n",
    "import os\n",
    "import numpy as np\n",
    "\n",
    "#filenames = os.listdir(\"C:/Users/Michael/Desktop/Berkeley/FinTech/DR/fintech_DR/images\")\n",
    "path = \"C:/Users/Michael/Desktop/Berkeley/FinTech/DR/fintech_DR/images\"\n",
    "img = cv2.imread(path + \"/\" + \"10058_right.jpeg\")\n",
    "cv2.imshow(\"img\",img)\n",
    "cv2.waitKey(0)\n",
    "cv2.destroyAllWindows()\n",
    "\n",
    "a = np.array(feature_mat[0,:])\n",
    "a = np.reshape(a, (512,512,3))\n",
    "cv2.imshow(\"img\",a)\n",
    "cv2.waitKey(0)\n",
    "cv2.destroyAllWindows()\n",
    "\n",
    "#for filename in os.listdir(r\"C:\\Users\\Michael\\Desktop\\Berkeley\\FinTech\\DR\\fintech_DR\\images\"):              \n",
    "#    print (filename)\n"
   ]
  },
  {
   "cell_type": "code",
   "execution_count": null,
   "metadata": {
    "scrolled": true
   },
   "outputs": [],
   "source": [
    "print(images[100].shape)\n",
    "print(images[20].reshape(-1).shape)\n",
    "print(images[20].size)\n",
    "print(len(feature[20]))\n",
    "print(feature[25].shape)\n",
    "print(feature[25].size)\n",
    "print(feature[20:22])\n",
    "print(filenames[1:10])"
   ]
  },
  {
   "cell_type": "code",
   "execution_count": null,
   "metadata": {},
   "outputs": [],
   "source": [
    "c =  np.zeros(2)\n",
    "print(c)\n",
    "type(c)"
   ]
  },
  {
   "cell_type": "code",
   "execution_count": null,
   "metadata": {},
   "outputs": [],
   "source": [
    "\n",
    "a = images[100]\n",
    "#images_matrix = mat(images)\n",
    "A = a.flatten()\n",
    "print(A)\n",
    "print(sum(A))\n",
    "type(a)\n",
    "\n"
   ]
  }
 ],
 "metadata": {
  "kernelspec": {
   "display_name": "Python 3",
   "language": "python",
   "name": "python3"
  },
  "language_info": {
   "codemirror_mode": {
    "name": "ipython",
    "version": 3
   },
   "file_extension": ".py",
   "mimetype": "text/x-python",
   "name": "python",
   "nbconvert_exporter": "python",
   "pygments_lexer": "ipython3",
   "version": "3.7.3"
  }
 },
 "nbformat": 4,
 "nbformat_minor": 2
}
