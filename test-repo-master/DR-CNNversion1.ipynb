{
 "cells": [
  {
   "cell_type": "code",
   "execution_count": 2,
   "metadata": {},
   "outputs": [],
   "source": [
    "import cv2\n",
    "import os\n",
    "import numpy as np\n",
    "import pandas as pd\n",
    "import matplotlib.pyplot as plt\n",
    "import json\n",
    "\n",
    "path = \"C:/Users/Michael/Desktop/Berkeley/FinTech/DR/fintech_DR/images\"\n",
    "filenames = os.listdir(path)\n",
    "\n",
    "with open('C:/Users/Michael/Desktop/Berkeley/FinTech/DR/fintech_DR/labels.json') as label:\n",
    "    labels = json.load(label)\n",
    "\n",
    "\n",
    "file_df = pd.DataFrame(filenames, columns = [\"file_name\"])\n",
    "label_temp_df = pd.DataFrame(labels, columns = [\"file_name\", \"DR_stage\"])\n",
    "label_df = pd.merge(file_df, label_temp_df, on = [\"file_name\", \"file_name\"])\n",
    "\n",
    "\n",
    "images = []\n",
    "\n",
    "for i in range(len(filenames)):              \n",
    "    temp = cv2.imread(path + \"/\" + filenames[i])\n",
    "    temp = cv2.resize(temp, (512,512))\n",
    "    images.append(temp)\n",
    "\n",
    "    \n",
    "images_arr = np.array(images)\n",
    "\n"
   ]
  },
  {
   "cell_type": "code",
   "execution_count": 3,
   "metadata": {},
   "outputs": [],
   "source": [
    "#### training and testing set split\n",
    "from sklearn.model_selection import train_test_split \n",
    "from keras.utils import to_categorical\n",
    "\n",
    "x_train, x_test, y_train, y_test = train_test_split(images_arr, label_df.iloc[:,1], test_size=0.2)\n",
    "\n",
    "# Onehot encoding for catogory\n",
    "y_trainOneHot = to_categorical(y_train)\n",
    "y_testOneHot = to_categorical(y_test)"
   ]
  },
  {
   "cell_type": "code",
   "execution_count": 4,
   "metadata": {},
   "outputs": [
    {
     "name": "stdout",
     "output_type": "stream",
     "text": [
      "_________________________________________________________________\n",
      "Layer (type)                 Output Shape              Param #   \n",
      "=================================================================\n",
      "conv2d_5 (Conv2D)            (None, 510, 510, 10)      280       \n",
      "_________________________________________________________________\n",
      "max_pooling2d_5 (MaxPooling2 (None, 255, 255, 10)      0         \n",
      "_________________________________________________________________\n",
      "conv2d_6 (Conv2D)            (None, 253, 253, 10)      910       \n",
      "_________________________________________________________________\n",
      "max_pooling2d_6 (MaxPooling2 (None, 126, 126, 10)      0         \n",
      "_________________________________________________________________\n",
      "conv2d_7 (Conv2D)            (None, 124, 124, 10)      910       \n",
      "_________________________________________________________________\n",
      "max_pooling2d_7 (MaxPooling2 (None, 62, 62, 10)        0         \n",
      "_________________________________________________________________\n",
      "conv2d_8 (Conv2D)            (None, 60, 60, 10)        910       \n",
      "_________________________________________________________________\n",
      "max_pooling2d_8 (MaxPooling2 (None, 30, 30, 10)        0         \n",
      "_________________________________________________________________\n",
      "flatten_2 (Flatten)          (None, 9000)              0         \n",
      "_________________________________________________________________\n",
      "dense_4 (Dense)              (None, 64)                576064    \n",
      "_________________________________________________________________\n",
      "dense_5 (Dense)              (None, 64)                4160      \n",
      "_________________________________________________________________\n",
      "dense_6 (Dense)              (None, 5)                 325       \n",
      "=================================================================\n",
      "Total params: 583,559\n",
      "Trainable params: 583,559\n",
      "Non-trainable params: 0\n",
      "_________________________________________________________________\n"
     ]
    }
   ],
   "source": [
    "### CNN \n",
    "import keras\n",
    "from keras.models import Sequential\n",
    "from keras.layers import Dense, Dropout, Activation, Flatten, Conv2D, MaxPooling2D\n",
    "\n",
    "\n",
    "\n",
    "\n",
    "model = Sequential()\n",
    "\n",
    "model.add(Conv2D(filters = 10, kernel_size = (3,3), input_shape = (512,512,3), activation = \"relu\"))\n",
    "model.add(MaxPooling2D(pool_size=(2,2)))\n",
    "\n",
    "\n",
    "model.add(Conv2D(filters = 10, kernel_size = (3,3), activation = \"relu\"))\n",
    "model.add(MaxPooling2D(pool_size=(2,2)))\n",
    "\n",
    "model.add(Conv2D(filters = 10, kernel_size = (3,3), activation = \"relu\"))\n",
    "model.add(MaxPooling2D(pool_size=(2,2)))\n",
    "\n",
    "model.add(Conv2D(filters = 10, kernel_size = (3,3), activation = \"relu\"))\n",
    "model.add(MaxPooling2D(pool_size=(2,2)))\n",
    "\n",
    "\n",
    "model.add(Flatten())\n",
    "model.add(Dense(64, activation = \"relu\"))\n",
    "\n",
    "model.add(Dense(64, activation = \"relu\"))\n",
    "\n",
    "model.add(Dense(5, activation = 'softmax'))\n",
    "\n",
    "model.compile(loss = \"categorical_crossentropy\",\n",
    "             optimizer = \"adam\",\n",
    "             metrics = ['accuracy'])\n",
    "\n",
    "\n",
    "\n",
    "model.summary()\n"
   ]
  },
  {
   "cell_type": "code",
   "execution_count": 5,
   "metadata": {},
   "outputs": [
    {
     "name": "stdout",
     "output_type": "stream",
     "text": [
      "WARNING:tensorflow:From D:\\Jupytor\\lib\\site-packages\\tensorflow\\python\\ops\\math_grad.py:1250: add_dispatch_support.<locals>.wrapper (from tensorflow.python.ops.array_ops) is deprecated and will be removed in a future version.\n",
      "Instructions for updating:\n",
      "Use tf.where in 2.0, which has the same broadcast rule as np.where\n",
      "WARNING:tensorflow:From D:\\Jupytor\\lib\\site-packages\\keras\\backend\\tensorflow_backend.py:986: The name tf.assign_add is deprecated. Please use tf.compat.v1.assign_add instead.\n",
      "\n",
      "Train on 1080 samples, validate on 120 samples\n",
      "Epoch 1/20\n",
      " - 429s - loss: 6.8065 - acc: 0.3167 - val_loss: 0.9639 - val_acc: 0.7250\n",
      "Epoch 2/20\n",
      " - 463s - loss: 0.9721 - acc: 0.7222 - val_loss: 0.9839 - val_acc: 0.7333\n",
      "Epoch 3/20\n",
      " - 462s - loss: 0.9090 - acc: 0.7352 - val_loss: 0.9209 - val_acc: 0.7333\n",
      "Epoch 4/20\n",
      " - 463s - loss: 0.8747 - acc: 0.7185 - val_loss: 0.9189 - val_acc: 0.7333\n",
      "Epoch 5/20\n",
      " - 449s - loss: 0.7995 - acc: 0.7352 - val_loss: 0.9003 - val_acc: 0.7333\n",
      "Epoch 6/20\n",
      " - 454s - loss: 0.7351 - acc: 0.7463 - val_loss: 0.9815 - val_acc: 0.7333\n",
      "Epoch 7/20\n",
      " - 458s - loss: 0.6877 - acc: 0.7509 - val_loss: 1.0495 - val_acc: 0.7167\n",
      "Epoch 8/20\n",
      " - 458s - loss: 0.6215 - acc: 0.7741 - val_loss: 1.0411 - val_acc: 0.7000\n",
      "Epoch 9/20\n",
      " - 457s - loss: 0.5800 - acc: 0.7944 - val_loss: 0.9624 - val_acc: 0.7083\n",
      "Epoch 10/20\n",
      " - 469s - loss: 0.6227 - acc: 0.8019 - val_loss: 1.0698 - val_acc: 0.6833\n",
      "Epoch 11/20\n",
      " - 438s - loss: 0.5224 - acc: 0.8250 - val_loss: 1.0827 - val_acc: 0.6833\n",
      "Epoch 12/20\n",
      " - 450s - loss: 0.4678 - acc: 0.8370 - val_loss: 1.1546 - val_acc: 0.6667\n",
      "Epoch 13/20\n",
      " - 471s - loss: 0.3539 - acc: 0.8861 - val_loss: 1.3840 - val_acc: 0.5917\n",
      "Epoch 14/20\n",
      " - 471s - loss: 0.3631 - acc: 0.8778 - val_loss: 1.1468 - val_acc: 0.7083\n",
      "Epoch 15/20\n",
      " - 454s - loss: 0.3205 - acc: 0.9000 - val_loss: 1.3667 - val_acc: 0.6583\n",
      "Epoch 16/20\n",
      " - 476s - loss: 0.2887 - acc: 0.9000 - val_loss: 1.6507 - val_acc: 0.5917\n",
      "Epoch 17/20\n",
      " - 461s - loss: 0.2644 - acc: 0.9046 - val_loss: 1.4020 - val_acc: 0.6417\n",
      "Epoch 18/20\n",
      " - 456s - loss: 0.2283 - acc: 0.9148 - val_loss: 1.6660 - val_acc: 0.5833\n",
      "Epoch 19/20\n",
      " - 457s - loss: 0.1938 - acc: 0.9426 - val_loss: 1.6366 - val_acc: 0.6083\n",
      "Epoch 20/20\n",
      " - 462s - loss: 0.1348 - acc: 0.9611 - val_loss: 1.7128 - val_acc: 0.6583\n"
     ]
    },
    {
     "data": {
      "text/plain": [
       "<keras.callbacks.History at 0x1c97edb58d0>"
      ]
     },
     "execution_count": 5,
     "metadata": {},
     "output_type": "execute_result"
    }
   ],
   "source": [
    "model.fit(x = x_train, y = y_trainOneHot, batch_size = 100, epochs = 20, validation_split = 0.1, verbose = 2)"
   ]
  },
  {
   "cell_type": "code",
   "execution_count": 7,
   "metadata": {},
   "outputs": [
    {
     "name": "stdout",
     "output_type": "stream",
     "text": [
      "300/300 [==============================] - 24s 81ms/step\n"
     ]
    },
    {
     "data": {
      "text/plain": [
       "0.64"
      ]
     },
     "execution_count": 7,
     "metadata": {},
     "output_type": "execute_result"
    }
   ],
   "source": [
    "scores = model.evaluate(x_test, y_testOneHot)\n",
    "scores[1]"
   ]
  },
  {
   "cell_type": "code",
   "execution_count": 8,
   "metadata": {},
   "outputs": [
    {
     "data": {
      "text/html": [
       "<div>\n",
       "<style scoped>\n",
       "    .dataframe tbody tr th:only-of-type {\n",
       "        vertical-align: middle;\n",
       "    }\n",
       "\n",
       "    .dataframe tbody tr th {\n",
       "        vertical-align: top;\n",
       "    }\n",
       "\n",
       "    .dataframe thead th {\n",
       "        text-align: right;\n",
       "    }\n",
       "</style>\n",
       "<table border=\"1\" class=\"dataframe\">\n",
       "  <thead>\n",
       "    <tr style=\"text-align: right;\">\n",
       "      <th>predict</th>\n",
       "      <th>0</th>\n",
       "      <th>1</th>\n",
       "      <th>2</th>\n",
       "      <th>3</th>\n",
       "    </tr>\n",
       "    <tr>\n",
       "      <th>label</th>\n",
       "      <th></th>\n",
       "      <th></th>\n",
       "      <th></th>\n",
       "      <th></th>\n",
       "    </tr>\n",
       "  </thead>\n",
       "  <tbody>\n",
       "    <tr>\n",
       "      <th>0</th>\n",
       "      <td>184</td>\n",
       "      <td>15</td>\n",
       "      <td>13</td>\n",
       "      <td>1</td>\n",
       "    </tr>\n",
       "    <tr>\n",
       "      <th>1</th>\n",
       "      <td>23</td>\n",
       "      <td>1</td>\n",
       "      <td>0</td>\n",
       "      <td>0</td>\n",
       "    </tr>\n",
       "    <tr>\n",
       "      <th>2</th>\n",
       "      <td>42</td>\n",
       "      <td>3</td>\n",
       "      <td>7</td>\n",
       "      <td>0</td>\n",
       "    </tr>\n",
       "    <tr>\n",
       "      <th>3</th>\n",
       "      <td>5</td>\n",
       "      <td>0</td>\n",
       "      <td>3</td>\n",
       "      <td>0</td>\n",
       "    </tr>\n",
       "    <tr>\n",
       "      <th>4</th>\n",
       "      <td>3</td>\n",
       "      <td>0</td>\n",
       "      <td>0</td>\n",
       "      <td>0</td>\n",
       "    </tr>\n",
       "  </tbody>\n",
       "</table>\n",
       "</div>"
      ],
      "text/plain": [
       "predict    0   1   2  3\n",
       "label                  \n",
       "0        184  15  13  1\n",
       "1         23   1   0  0\n",
       "2         42   3   7  0\n",
       "3          5   0   3  0\n",
       "4          3   0   0  0"
      ]
     },
     "execution_count": 8,
     "metadata": {},
     "output_type": "execute_result"
    }
   ],
   "source": [
    "\n",
    "prediction = model.predict_classes(x_test)\n",
    "pd.crosstab(y_test,prediction,\n",
    "            rownames=['label'],colnames=['predict'])"
   ]
  }
 ],
 "metadata": {
  "kernelspec": {
   "display_name": "Python 3",
   "language": "python",
   "name": "python3"
  },
  "language_info": {
   "codemirror_mode": {
    "name": "ipython",
    "version": 3
   },
   "file_extension": ".py",
   "mimetype": "text/x-python",
   "name": "python",
   "nbconvert_exporter": "python",
   "pygments_lexer": "ipython3",
   "version": "3.7.3"
  }
 },
 "nbformat": 4,
 "nbformat_minor": 2
}
